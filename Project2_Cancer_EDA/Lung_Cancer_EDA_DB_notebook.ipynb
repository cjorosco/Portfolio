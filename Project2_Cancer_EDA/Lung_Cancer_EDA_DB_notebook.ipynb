{
 "cells": [
  {
   "cell_type": "code",
   "execution_count": 1,
   "metadata": {},
   "outputs": [],
   "source": [
    "# Christine Orosco\n",
    "# Store dataset to a local SQLite DD and conduct EDA"
   ]
  },
  {
   "cell_type": "code",
   "execution_count": 2,
   "metadata": {},
   "outputs": [],
   "source": [
    "# import libraries\n",
    "import pandas as pd\n",
    "import numpy as np\n",
    "import sqlite3\n",
    "import json\n",
    "from sqlite3 import Error\n",
    "import matplotlib.pyplot as plt\n",
    "import seaborn as sns"
   ]
  },
  {
   "cell_type": "code",
   "execution_count": 3,
   "metadata": {},
   "outputs": [],
   "source": [
    "# Set context to `\"paper\"`\n",
    "sns.set(rc={\"font.size\":15,\"axes.labelsize\":10})\n",
    "#fig, ax = plt.subplots(figsize=(10,10))\n",
    "sns.set(color_codes=True)"
   ]
  },
  {
   "cell_type": "markdown",
   "metadata": {},
   "source": [
    "## Read the flat file"
   ]
  },
  {
   "cell_type": "code",
   "execution_count": 4,
   "metadata": {},
   "outputs": [
    {
     "data": {
      "text/html": [
       "<div>\n",
       "<style scoped>\n",
       "    .dataframe tbody tr th:only-of-type {\n",
       "        vertical-align: middle;\n",
       "    }\n",
       "\n",
       "    .dataframe tbody tr th {\n",
       "        vertical-align: top;\n",
       "    }\n",
       "\n",
       "    .dataframe thead th {\n",
       "        text-align: right;\n",
       "    }\n",
       "</style>\n",
       "<table border=\"1\" class=\"dataframe\">\n",
       "  <thead>\n",
       "    <tr style=\"text-align: right;\">\n",
       "      <th></th>\n",
       "      <th>Year</th>\n",
       "      <th>State</th>\n",
       "      <th>State_Code</th>\n",
       "      <th>HHS_Region</th>\n",
       "      <th>Age_Range</th>\n",
       "      <th>Benchmark</th>\n",
       "      <th>Locality</th>\n",
       "      <th>Observed_Deaths</th>\n",
       "      <th>Population</th>\n",
       "      <th>Expected_Deaths</th>\n",
       "      <th>Potentially_Excess_Deaths</th>\n",
       "      <th>Percent_Potentially_Excess_Deaths</th>\n",
       "    </tr>\n",
       "  </thead>\n",
       "  <tbody>\n",
       "    <tr>\n",
       "      <th>0</th>\n",
       "      <td>2010</td>\n",
       "      <td>Alabama</td>\n",
       "      <td>AL</td>\n",
       "      <td>4</td>\n",
       "      <td>0-84</td>\n",
       "      <td>2010 Fixed</td>\n",
       "      <td>All</td>\n",
       "      <td>8879.0</td>\n",
       "      <td>4704052.0</td>\n",
       "      <td>6279.0</td>\n",
       "      <td>2600.0</td>\n",
       "      <td>29.3</td>\n",
       "    </tr>\n",
       "    <tr>\n",
       "      <th>1</th>\n",
       "      <td>2010</td>\n",
       "      <td>Alaska</td>\n",
       "      <td>AK</td>\n",
       "      <td>10</td>\n",
       "      <td>0-84</td>\n",
       "      <td>2010 Fixed</td>\n",
       "      <td>All</td>\n",
       "      <td>798.0</td>\n",
       "      <td>705520.0</td>\n",
       "      <td>664.0</td>\n",
       "      <td>134.0</td>\n",
       "      <td>16.8</td>\n",
       "    </tr>\n",
       "    <tr>\n",
       "      <th>2</th>\n",
       "      <td>2010</td>\n",
       "      <td>Arizona</td>\n",
       "      <td>AZ</td>\n",
       "      <td>9</td>\n",
       "      <td>0-84</td>\n",
       "      <td>2010 Fixed</td>\n",
       "      <td>All</td>\n",
       "      <td>8917.0</td>\n",
       "      <td>6288617.0</td>\n",
       "      <td>8177.0</td>\n",
       "      <td>740.0</td>\n",
       "      <td>8.3</td>\n",
       "    </tr>\n",
       "    <tr>\n",
       "      <th>3</th>\n",
       "      <td>2010</td>\n",
       "      <td>Arkansas</td>\n",
       "      <td>AR</td>\n",
       "      <td>6</td>\n",
       "      <td>0-84</td>\n",
       "      <td>2010 Fixed</td>\n",
       "      <td>All</td>\n",
       "      <td>5547.0</td>\n",
       "      <td>2864516.0</td>\n",
       "      <td>3893.0</td>\n",
       "      <td>1654.0</td>\n",
       "      <td>29.8</td>\n",
       "    </tr>\n",
       "    <tr>\n",
       "      <th>4</th>\n",
       "      <td>2010</td>\n",
       "      <td>California</td>\n",
       "      <td>CA</td>\n",
       "      <td>9</td>\n",
       "      <td>0-84</td>\n",
       "      <td>2010 Fixed</td>\n",
       "      <td>All</td>\n",
       "      <td>46065.0</td>\n",
       "      <td>36652988.0</td>\n",
       "      <td>41572.0</td>\n",
       "      <td>4493.0</td>\n",
       "      <td>9.8</td>\n",
       "    </tr>\n",
       "  </tbody>\n",
       "</table>\n",
       "</div>"
      ],
      "text/plain": [
       "   Year       State State_Code  HHS_Region Age_Range   Benchmark Locality  \\\n",
       "0  2010     Alabama         AL           4      0-84  2010 Fixed      All   \n",
       "1  2010      Alaska         AK          10      0-84  2010 Fixed      All   \n",
       "2  2010     Arizona         AZ           9      0-84  2010 Fixed      All   \n",
       "3  2010    Arkansas         AR           6      0-84  2010 Fixed      All   \n",
       "4  2010  California         CA           9      0-84  2010 Fixed      All   \n",
       "\n",
       "   Observed_Deaths  Population  Expected_Deaths  Potentially_Excess_Deaths  \\\n",
       "0           8879.0   4704052.0           6279.0                     2600.0   \n",
       "1            798.0    705520.0            664.0                      134.0   \n",
       "2           8917.0   6288617.0           8177.0                      740.0   \n",
       "3           5547.0   2864516.0           3893.0                     1654.0   \n",
       "4          46065.0  36652988.0          41572.0                     4493.0   \n",
       "\n",
       "   Percent_Potentially_Excess_Deaths  \n",
       "0                               29.3  \n",
       "1                               16.8  \n",
       "2                                8.3  \n",
       "3                               29.8  \n",
       "4                                9.8  "
      ]
     },
     "execution_count": 4,
     "metadata": {},
     "output_type": "execute_result"
    }
   ],
   "source": [
    "# Read csv file into df\n",
    "clean_csv_df = pd.read_csv('~/cancer_csv.csv')\n",
    "clean_csv_df.head(5)"
   ]
  },
  {
   "cell_type": "markdown",
   "metadata": {},
   "source": [
    "## Connect to SQLite DB"
   ]
  },
  {
   "cell_type": "code",
   "execution_count": 5,
   "metadata": {},
   "outputs": [],
   "source": [
    "# Connect to DB and load table from pandas into sqlite\n",
    "# Csv file\n",
    "conn = sqlite3.connect('~/cancer_data.db')\n",
    "c1 = conn.cursor()"
   ]
  },
  {
   "cell_type": "code",
   "execution_count": 6,
   "metadata": {},
   "outputs": [],
   "source": [
    "clean_csv_df.to_sql(\"clean_csv\", conn, if_exists=\"replace\")"
   ]
  },
  {
   "cell_type": "code",
   "execution_count": 7,
   "metadata": {},
   "outputs": [
    {
     "name": "stdout",
     "output_type": "stream",
     "text": [
      "(0, 2010, 'Alabama', 'AL', 4, '0-84', '2010 Fixed', 'All', 8879.0, 4704052.0, 6279.0, 2600.0, 29.3)\n",
      "(1, 2010, 'Alaska', 'AK', 10, '0-84', '2010 Fixed', 'All', 798.0, 705520.0, 664.0, 134.0, 16.8)\n",
      "(2, 2010, 'Arizona', 'AZ', 9, '0-84', '2010 Fixed', 'All', 8917.0, 6288617.0, 8177.0, 740.0, 8.3)\n",
      "(3, 2010, 'Arkansas', 'AR', 6, '0-84', '2010 Fixed', 'All', 5547.0, 2864516.0, 3893.0, 1654.0, 29.8)\n",
      "(4, 2010, 'California', 'CA', 9, '0-84', '2010 Fixed', 'All', 46065.0, 36652988.0, 41572.0, 4493.0, 9.8)\n",
      "(5, 2010, 'Colorado', 'CO', 8, '0-84', '2010 Fixed', 'All', 5879.0, 4959583.0, 5623.0, 263.0, 4.5)\n",
      "(6, 2010, 'Connecticut', 'CT', 1, '0-84', '2010 Fixed', 'All', 5454.0, 3489199.0, 4723.0, 731.0, 13.4)\n",
      "(7, 2010, 'Delaware', 'DE', 3, '0-84', '2010 Fixed', 'All', 1631.0, 882190.0, 1212.0, 419.0, 25.7)\n",
      "(8, 2010, 'District of\\nColumbia', 'DC', 3, '0-84', '2010 Fixed', 'All', 855.0, 591408.0, 657.0, 199.0, 23.3)\n",
      "(9, 2010, 'Florida', 'FL', 4, '0-84', '2010 Fixed', 'All', 34229.0, 18367185.0, 28894.0, 5335.0, 15.6)\n"
     ]
    }
   ],
   "source": [
    "# Query table for data\n",
    "results = c1.execute('Select * from clean_csv limit 10')\n",
    "for row in results:\n",
    "    print(row)"
   ]
  },
  {
   "cell_type": "code",
   "execution_count": 8,
   "metadata": {},
   "outputs": [
    {
     "data": {
      "text/html": [
       "<div>\n",
       "<style scoped>\n",
       "    .dataframe tbody tr th:only-of-type {\n",
       "        vertical-align: middle;\n",
       "    }\n",
       "\n",
       "    .dataframe tbody tr th {\n",
       "        vertical-align: top;\n",
       "    }\n",
       "\n",
       "    .dataframe thead th {\n",
       "        text-align: right;\n",
       "    }\n",
       "</style>\n",
       "<table border=\"1\" class=\"dataframe\">\n",
       "  <thead>\n",
       "    <tr style=\"text-align: right;\">\n",
       "      <th></th>\n",
       "      <th>State</th>\n",
       "      <th>Avg_Ann_Count</th>\n",
       "      <th>Recent_Trend</th>\n",
       "      <th>AA_Death_Rate_100K(95%CI)</th>\n",
       "      <th>AA_CI_lower</th>\n",
       "      <th>AA_CI_upper</th>\n",
       "      <th>Recent_5yr_Death_Rate(95%CI)</th>\n",
       "      <th>5yr_Death_Rate_CI_lower</th>\n",
       "      <th>5yr_Death_Rate_CI_upper</th>\n",
       "    </tr>\n",
       "  </thead>\n",
       "  <tbody>\n",
       "    <tr>\n",
       "      <th>0</th>\n",
       "      <td>Kentucky</td>\n",
       "      <td>3307</td>\n",
       "      <td>falling</td>\n",
       "      <td>60.4</td>\n",
       "      <td>59.5</td>\n",
       "      <td>61.3</td>\n",
       "      <td>-5.6</td>\n",
       "      <td>-7.7</td>\n",
       "      <td>-3.4</td>\n",
       "    </tr>\n",
       "    <tr>\n",
       "      <th>1</th>\n",
       "      <td>West Virginia</td>\n",
       "      <td>1416</td>\n",
       "      <td>falling</td>\n",
       "      <td>53.6</td>\n",
       "      <td>52.3</td>\n",
       "      <td>54.8</td>\n",
       "      <td>-1.9</td>\n",
       "      <td>-2.2</td>\n",
       "      <td>-1.5</td>\n",
       "    </tr>\n",
       "    <tr>\n",
       "      <th>2</th>\n",
       "      <td>Arkansas</td>\n",
       "      <td>2002</td>\n",
       "      <td>falling</td>\n",
       "      <td>52.8</td>\n",
       "      <td>51.8</td>\n",
       "      <td>53.9</td>\n",
       "      <td>-3.1</td>\n",
       "      <td>-3.9</td>\n",
       "      <td>-2.3</td>\n",
       "    </tr>\n",
       "    <tr>\n",
       "      <th>3</th>\n",
       "      <td>Mississippi</td>\n",
       "      <td>1880</td>\n",
       "      <td>falling</td>\n",
       "      <td>52.8</td>\n",
       "      <td>51.7</td>\n",
       "      <td>53.9</td>\n",
       "      <td>-2.6</td>\n",
       "      <td>-3.0</td>\n",
       "      <td>-2.1</td>\n",
       "    </tr>\n",
       "    <tr>\n",
       "      <th>4</th>\n",
       "      <td>Tennessee</td>\n",
       "      <td>4212</td>\n",
       "      <td>falling</td>\n",
       "      <td>51.3</td>\n",
       "      <td>50.6</td>\n",
       "      <td>52.0</td>\n",
       "      <td>-5.4</td>\n",
       "      <td>-7.3</td>\n",
       "      <td>-3.5</td>\n",
       "    </tr>\n",
       "  </tbody>\n",
       "</table>\n",
       "</div>"
      ],
      "text/plain": [
       "           State  Avg_Ann_Count Recent_Trend  AA_Death_Rate_100K(95%CI)  \\\n",
       "0       Kentucky           3307      falling                       60.4   \n",
       "1  West Virginia           1416      falling                       53.6   \n",
       "2       Arkansas           2002      falling                       52.8   \n",
       "3    Mississippi           1880      falling                       52.8   \n",
       "4      Tennessee           4212      falling                       51.3   \n",
       "\n",
       "   AA_CI_lower  AA_CI_upper  Recent_5yr_Death_Rate(95%CI)  \\\n",
       "0         59.5         61.3                          -5.6   \n",
       "1         52.3         54.8                          -1.9   \n",
       "2         51.8         53.9                          -3.1   \n",
       "3         51.7         53.9                          -2.6   \n",
       "4         50.6         52.0                          -5.4   \n",
       "\n",
       "   5yr_Death_Rate_CI_lower  5yr_Death_Rate_CI_upper  \n",
       "0                     -7.7                     -3.4  \n",
       "1                     -2.2                     -1.5  \n",
       "2                     -3.9                     -2.3  \n",
       "3                     -3.0                     -2.1  \n",
       "4                     -7.3                     -3.5  "
      ]
     },
     "execution_count": 8,
     "metadata": {},
     "output_type": "execute_result"
    }
   ],
   "source": [
    "# Load Website data file into pandas\n",
    "clean_html_df = pd.read_csv('~/website_deaths.csv')\n",
    "clean_html_df.head(5)"
   ]
  },
  {
   "cell_type": "code",
   "execution_count": 9,
   "metadata": {},
   "outputs": [],
   "source": [
    "# Connect to DB and load table from pandas into sqlite\n",
    "# website file\n",
    "c1 = conn.cursor()\n",
    "clean_html_df.to_sql('clean_html', conn, if_exists='replace')\n",
    "conn.commit()"
   ]
  },
  {
   "cell_type": "code",
   "execution_count": 10,
   "metadata": {},
   "outputs": [
    {
     "name": "stdout",
     "output_type": "stream",
     "text": [
      "(0, 'Kentucky', 3307, 'falling', 60.4, 59.5, 61.3, -5.6, -7.7, -3.4)\n",
      "(1, 'West Virginia', 1416, 'falling', 53.6, 52.3, 54.8, -1.9, -2.2, -1.5)\n",
      "(2, 'Arkansas', 2002, 'falling', 52.8, 51.8, 53.9, -3.1, -3.9, -2.3)\n",
      "(3, 'Mississippi', 1880, 'falling', 52.8, 51.7, 53.9, -2.6, -3.0, -2.1)\n",
      "(4, 'Tennessee', 4212, 'falling', 51.3, 50.6, 52.0, -5.4, -7.3, -3.5)\n",
      "(5, 'Oklahoma', 2323, 'falling', 50.0, 49.1, 50.9, -2.5, -3.1, -2.0)\n",
      "(6, 'Indiana', 3843, 'falling', 48.7, 48.0, 49.5, -4.5, -6.3, -2.6)\n",
      "(7, 'Missouri', 3762, 'falling', 48.7, 48.0, 49.4, -4.6, -6.0, -3.2)\n",
      "(8, 'Alabama', 2998, 'falling', 48.5, 47.8, 49.3, -3.3, -3.9, -2.7)\n",
      "(9, 'Louisiana', 2569, 'falling', 47.5, 46.7, 48.4, -4.7, -6.6, -2.7)\n"
     ]
    }
   ],
   "source": [
    "# Query table for data\n",
    "results = c1.execute('Select * from clean_html limit 10')\n",
    "for row in results:\n",
    "    print(row)"
   ]
  },
  {
   "cell_type": "code",
   "execution_count": 11,
   "metadata": {},
   "outputs": [
    {
     "data": {
      "text/html": [
       "<div>\n",
       "<style scoped>\n",
       "    .dataframe tbody tr th:only-of-type {\n",
       "        vertical-align: middle;\n",
       "    }\n",
       "\n",
       "    .dataframe tbody tr th {\n",
       "        vertical-align: top;\n",
       "    }\n",
       "\n",
       "    .dataframe thead th {\n",
       "        text-align: right;\n",
       "    }\n",
       "</style>\n",
       "<table border=\"1\" class=\"dataframe\">\n",
       "  <thead>\n",
       "    <tr style=\"text-align: right;\">\n",
       "      <th></th>\n",
       "      <th>State_Code</th>\n",
       "      <th>yearstart</th>\n",
       "      <th>yearend</th>\n",
       "      <th>Strat</th>\n",
       "      <th>Value_Type</th>\n",
       "      <th>Value</th>\n",
       "    </tr>\n",
       "  </thead>\n",
       "  <tbody>\n",
       "    <tr>\n",
       "      <th>0</th>\n",
       "      <td>AK</td>\n",
       "      <td>2010</td>\n",
       "      <td>2014</td>\n",
       "      <td>Overall</td>\n",
       "      <td>AA_Nbr</td>\n",
       "      <td>255.0</td>\n",
       "    </tr>\n",
       "    <tr>\n",
       "      <th>1</th>\n",
       "      <td>AL</td>\n",
       "      <td>2010</td>\n",
       "      <td>2014</td>\n",
       "      <td>Overall</td>\n",
       "      <td>AA_Nbr</td>\n",
       "      <td>3149.0</td>\n",
       "    </tr>\n",
       "    <tr>\n",
       "      <th>2</th>\n",
       "      <td>AR</td>\n",
       "      <td>2010</td>\n",
       "      <td>2014</td>\n",
       "      <td>Overall</td>\n",
       "      <td>AA_Nbr</td>\n",
       "      <td>2118.0</td>\n",
       "    </tr>\n",
       "    <tr>\n",
       "      <th>3</th>\n",
       "      <td>AZ</td>\n",
       "      <td>2010</td>\n",
       "      <td>2014</td>\n",
       "      <td>Overall</td>\n",
       "      <td>AA_Nbr</td>\n",
       "      <td>2736.0</td>\n",
       "    </tr>\n",
       "    <tr>\n",
       "      <th>4</th>\n",
       "      <td>CA</td>\n",
       "      <td>2010</td>\n",
       "      <td>2014</td>\n",
       "      <td>Overall</td>\n",
       "      <td>AA_Nbr</td>\n",
       "      <td>12590.0</td>\n",
       "    </tr>\n",
       "  </tbody>\n",
       "</table>\n",
       "</div>"
      ],
      "text/plain": [
       "  State_Code  yearstart  yearend    Strat Value_Type    Value\n",
       "0         AK       2010     2014  Overall     AA_Nbr    255.0\n",
       "1         AL       2010     2014  Overall     AA_Nbr   3149.0\n",
       "2         AR       2010     2014  Overall     AA_Nbr   2118.0\n",
       "3         AZ       2010     2014  Overall     AA_Nbr   2736.0\n",
       "4         CA       2010     2014  Overall     AA_Nbr  12590.0"
      ]
     },
     "execution_count": 11,
     "metadata": {},
     "output_type": "execute_result"
    }
   ],
   "source": [
    "# # Load API data file into pandas\n",
    "clean_api_df = pd.read_csv('~/api_deaths.csv')\n",
    "conn.commit()\n",
    "clean_api_df.head(5)"
   ]
  },
  {
   "cell_type": "code",
   "execution_count": 12,
   "metadata": {},
   "outputs": [],
   "source": [
    "# Connect to DB and load table from pandas into sqlite\n",
    "# website file\n",
    "c1 = conn.cursor()\n",
    "clean_api_df.to_sql('clean_api', conn, if_exists='replace')\n",
    "conn.commit()"
   ]
  },
  {
   "cell_type": "code",
   "execution_count": 13,
   "metadata": {},
   "outputs": [
    {
     "name": "stdout",
     "output_type": "stream",
     "text": [
      "(0, 'AK', 2010, 2014, 'Overall', 'AA_Nbr', 255.0)\n",
      "(1, 'AL', 2010, 2014, 'Overall', 'AA_Nbr', 3149.0)\n",
      "(2, 'AR', 2010, 2014, 'Overall', 'AA_Nbr', 2118.0)\n",
      "(3, 'AZ', 2010, 2014, 'Overall', 'AA_Nbr', 2736.0)\n",
      "(4, 'CA', 2010, 2014, 'Overall', 'AA_Nbr', 12590.0)\n",
      "(5, 'CO', 2010, 2014, 'Overall', 'AA_Nbr', 1591.0)\n",
      "(6, 'CT', 2010, 2014, 'Overall', 'AA_Nbr', 1712.0)\n",
      "(7, 'DC', 2010, 2014, 'Overall', 'AA_Nbr', 241.0)\n",
      "(8, 'DE', 2010, 2014, 'Overall', 'AA_Nbr', 568.0)\n",
      "(9, 'FL', 2010, 2014, 'Overall', 'AA_Nbr', 11896.0)\n"
     ]
    }
   ],
   "source": [
    "# Query table for data\n",
    "results = c1.execute('Select * from clean_api limit 10')\n",
    "for row in results:\n",
    "    print(row)"
   ]
  },
  {
   "cell_type": "markdown",
   "metadata": {},
   "source": [
    "## Merge 3 tables into 1"
   ]
  },
  {
   "cell_type": "code",
   "execution_count": 14,
   "metadata": {},
   "outputs": [
    {
     "data": {
      "text/plain": [
       "<sqlite3.Cursor at 0x7fe9ca7cb2d0>"
      ]
     },
     "execution_count": 14,
     "metadata": {},
     "output_type": "execute_result"
    }
   ],
   "source": [
    "# Merge the 3 tables into 1 large table within Sqlite using SQL JOIN\n",
    "c1.execute('create table big_tab as \\\n",
    "select a.*, b.* , c.* from clean_api a \\\n",
    "inner join clean_csv b on b.State_Code = a.State_Code \\\n",
    "inner join clean_html c on c.State = b.State')"
   ]
  },
  {
   "cell_type": "code",
   "execution_count": 15,
   "metadata": {},
   "outputs": [],
   "source": [
    "conn.commit()"
   ]
  },
  {
   "cell_type": "code",
   "execution_count": 44,
   "metadata": {},
   "outputs": [
    {
     "name": "stdout",
     "output_type": "stream",
     "text": [
      "(0, 'AK', 2010, 2014, 'Overall', 'AA_Nbr', 255.0, 1, 2010, 'Alaska', 'AK', 10, '0-84', '2010 Fixed', 'All', 798.0, 705520.0, 664.0, 134.0, 16.8, 33, 'Alaska', 228, 'falling', 36.6, 34.3, 38.9, -7.5, -10.3, -4.6)\n",
      "(0, 'AK', 2010, 2014, 'Overall', 'AA_Nbr', 255.0, 53, 2011, 'Alaska', 'AK', 10, '0-84', '2010 Fixed', 'All', 836.0, 717624.0, 692.0, 145.0, 17.3, 33, 'Alaska', 228, 'falling', 36.6, 34.3, 38.9, -7.5, -10.3, -4.6)\n",
      "(0, 'AK', 2010, 2014, 'Overall', 'AA_Nbr', 255.0, 103, 2012, 'Alaska', 'AK', 10, '0-84', '2010 Fixed', 'All', 830.0, 726076.0, 719.0, 111.0, 13.4, 33, 'Alaska', 228, 'falling', 36.6, 34.3, 38.9, -7.5, -10.3, -4.6)\n",
      "(0, 'AK', 2010, 2014, 'Overall', 'AA_Nbr', 255.0, 154, 2013, 'Alaska', 'AK', 10, '0-84', '2010 Fixed', 'All', 913.0, 729443.0, 734.0, 179.0, 19.6, 33, 'Alaska', 228, 'falling', 36.6, 34.3, 38.9, -7.5, -10.3, -4.6)\n",
      "(0, 'AK', 2010, 2014, 'Overall', 'AA_Nbr', 255.0, 205, 2014, 'Alaska', 'AK', 10, '0-84', '2010 Fixed', 'All', 882.0, 730801.0, 749.0, 138.0, 15.6, 33, 'Alaska', 228, 'falling', 36.6, 34.3, 38.9, -7.5, -10.3, -4.6)\n",
      "(0, 'AK', 2010, 2014, 'Overall', 'AA_Nbr', 255.0, 255, 2015, 'Alaska', 'AK', 10, '0-84', '2010 Fixed', 'All', 884.0, 732295.0, 769.0, 117.0, 13.2, 33, 'Alaska', 228, 'falling', 36.6, 34.3, 38.9, -7.5, -10.3, -4.6)\n",
      "(1, 'AL', 2010, 2014, 'Overall', 'AA_Nbr', 3149.0, 0, 2010, 'Alabama', 'AL', 4, '0-84', '2010 Fixed', 'All', 8879.0, 4704052.0, 6279.0, 2600.0, 29.3, 8, 'Alabama', 2998, 'falling', 48.5, 47.8, 49.3, -3.3, -3.9, -2.7)\n",
      "(1, 'AL', 2010, 2014, 'Overall', 'AA_Nbr', 3149.0, 52, 2011, 'Alabama', 'AL', 4, '0-84', '2010 Fixed', 'All', 8992.0, 4724997.0, 6403.0, 2591.0, 28.8, 8, 'Alabama', 2998, 'falling', 48.5, 47.8, 49.3, -3.3, -3.9, -2.7)\n",
      "(1, 'AL', 2010, 2014, 'Overall', 'AA_Nbr', 3149.0, 102, 2012, 'Alabama', 'AL', 4, '0-84', '2010 Fixed', 'All', 8963.0, 4741919.0, 6545.0, 2418.0, 27.0, 8, 'Alabama', 2998, 'falling', 48.5, 47.8, 49.3, -3.3, -3.9, -2.7)\n",
      "(1, 'AL', 2010, 2014, 'Overall', 'AA_Nbr', 3149.0, 153, 2013, 'Alabama', 'AL', 4, '0-84', '2010 Fixed', 'All', 9011.0, 4751746.0, 6678.0, 2333.0, 25.9, 8, 'Alabama', 2998, 'falling', 48.5, 47.8, 49.3, -3.3, -3.9, -2.7)\n"
     ]
    }
   ],
   "source": [
    "# select the data from the table that contains all three tables joined together\n",
    "results = c1.execute('select * from big_tab limit 10')\n",
    "for row in results:\n",
    "    print(row)"
   ]
  },
  {
   "cell_type": "code",
   "execution_count": 17,
   "metadata": {},
   "outputs": [],
   "source": [
    "# Combine the data from the tables by importing each table into a DF then combine all DFs into 1 large DF using pandas\n",
    "# PD.JOIN"
   ]
  },
  {
   "cell_type": "code",
   "execution_count": 18,
   "metadata": {},
   "outputs": [
    {
     "data": {
      "text/html": [
       "<div>\n",
       "<style scoped>\n",
       "    .dataframe tbody tr th:only-of-type {\n",
       "        vertical-align: middle;\n",
       "    }\n",
       "\n",
       "    .dataframe tbody tr th {\n",
       "        vertical-align: top;\n",
       "    }\n",
       "\n",
       "    .dataframe thead th {\n",
       "        text-align: right;\n",
       "    }\n",
       "</style>\n",
       "<table border=\"1\" class=\"dataframe\">\n",
       "  <thead>\n",
       "    <tr style=\"text-align: right;\">\n",
       "      <th></th>\n",
       "      <th></th>\n",
       "      <th>index</th>\n",
       "      <th>Year</th>\n",
       "      <th>HHS_Region</th>\n",
       "      <th>Age_Range</th>\n",
       "      <th>Benchmark</th>\n",
       "      <th>Locality</th>\n",
       "      <th>Observed_Deaths</th>\n",
       "      <th>Population</th>\n",
       "      <th>Expected_Deaths</th>\n",
       "      <th>Potentially_Excess_Deaths</th>\n",
       "      <th>Percent_Potentially_Excess_Deaths</th>\n",
       "    </tr>\n",
       "    <tr>\n",
       "      <th>State_Code</th>\n",
       "      <th>State</th>\n",
       "      <th></th>\n",
       "      <th></th>\n",
       "      <th></th>\n",
       "      <th></th>\n",
       "      <th></th>\n",
       "      <th></th>\n",
       "      <th></th>\n",
       "      <th></th>\n",
       "      <th></th>\n",
       "      <th></th>\n",
       "      <th></th>\n",
       "    </tr>\n",
       "  </thead>\n",
       "  <tbody>\n",
       "    <tr>\n",
       "      <th>AL</th>\n",
       "      <th>Alabama</th>\n",
       "      <td>0</td>\n",
       "      <td>2010</td>\n",
       "      <td>4</td>\n",
       "      <td>0-84</td>\n",
       "      <td>2010 Fixed</td>\n",
       "      <td>All</td>\n",
       "      <td>8879.0</td>\n",
       "      <td>4704052.0</td>\n",
       "      <td>6279.0</td>\n",
       "      <td>2600.0</td>\n",
       "      <td>29.3</td>\n",
       "    </tr>\n",
       "    <tr>\n",
       "      <th>AK</th>\n",
       "      <th>Alaska</th>\n",
       "      <td>1</td>\n",
       "      <td>2010</td>\n",
       "      <td>10</td>\n",
       "      <td>0-84</td>\n",
       "      <td>2010 Fixed</td>\n",
       "      <td>All</td>\n",
       "      <td>798.0</td>\n",
       "      <td>705520.0</td>\n",
       "      <td>664.0</td>\n",
       "      <td>134.0</td>\n",
       "      <td>16.8</td>\n",
       "    </tr>\n",
       "    <tr>\n",
       "      <th>AZ</th>\n",
       "      <th>Arizona</th>\n",
       "      <td>2</td>\n",
       "      <td>2010</td>\n",
       "      <td>9</td>\n",
       "      <td>0-84</td>\n",
       "      <td>2010 Fixed</td>\n",
       "      <td>All</td>\n",
       "      <td>8917.0</td>\n",
       "      <td>6288617.0</td>\n",
       "      <td>8177.0</td>\n",
       "      <td>740.0</td>\n",
       "      <td>8.3</td>\n",
       "    </tr>\n",
       "    <tr>\n",
       "      <th>AR</th>\n",
       "      <th>Arkansas</th>\n",
       "      <td>3</td>\n",
       "      <td>2010</td>\n",
       "      <td>6</td>\n",
       "      <td>0-84</td>\n",
       "      <td>2010 Fixed</td>\n",
       "      <td>All</td>\n",
       "      <td>5547.0</td>\n",
       "      <td>2864516.0</td>\n",
       "      <td>3893.0</td>\n",
       "      <td>1654.0</td>\n",
       "      <td>29.8</td>\n",
       "    </tr>\n",
       "    <tr>\n",
       "      <th>CA</th>\n",
       "      <th>California</th>\n",
       "      <td>4</td>\n",
       "      <td>2010</td>\n",
       "      <td>9</td>\n",
       "      <td>0-84</td>\n",
       "      <td>2010 Fixed</td>\n",
       "      <td>All</td>\n",
       "      <td>46065.0</td>\n",
       "      <td>36652988.0</td>\n",
       "      <td>41572.0</td>\n",
       "      <td>4493.0</td>\n",
       "      <td>9.8</td>\n",
       "    </tr>\n",
       "  </tbody>\n",
       "</table>\n",
       "</div>"
      ],
      "text/plain": [
       "                       index  Year  HHS_Region Age_Range   Benchmark Locality  \\\n",
       "State_Code State                                                                \n",
       "AL         Alabama         0  2010           4      0-84  2010 Fixed      All   \n",
       "AK         Alaska          1  2010          10      0-84  2010 Fixed      All   \n",
       "AZ         Arizona         2  2010           9      0-84  2010 Fixed      All   \n",
       "AR         Arkansas        3  2010           6      0-84  2010 Fixed      All   \n",
       "CA         California      4  2010           9      0-84  2010 Fixed      All   \n",
       "\n",
       "                       Observed_Deaths  Population  Expected_Deaths  \\\n",
       "State_Code State                                                      \n",
       "AL         Alabama              8879.0   4704052.0           6279.0   \n",
       "AK         Alaska                798.0    705520.0            664.0   \n",
       "AZ         Arizona              8917.0   6288617.0           8177.0   \n",
       "AR         Arkansas             5547.0   2864516.0           3893.0   \n",
       "CA         California          46065.0  36652988.0          41572.0   \n",
       "\n",
       "                       Potentially_Excess_Deaths  \\\n",
       "State_Code State                                   \n",
       "AL         Alabama                        2600.0   \n",
       "AK         Alaska                          134.0   \n",
       "AZ         Arizona                         740.0   \n",
       "AR         Arkansas                       1654.0   \n",
       "CA         California                     4493.0   \n",
       "\n",
       "                       Percent_Potentially_Excess_Deaths  \n",
       "State_Code State                                          \n",
       "AL         Alabama                                  29.3  \n",
       "AK         Alaska                                   16.8  \n",
       "AZ         Arizona                                   8.3  \n",
       "AR         Arkansas                                 29.8  \n",
       "CA         California                                9.8  "
      ]
     },
     "execution_count": 18,
     "metadata": {},
     "output_type": "execute_result"
    }
   ],
   "source": [
    "# Read the three tables from sqlite into seperate DFs\n",
    "clean_csv_df = pd.read_sql_query(\"SELECT * from clean_csv\", conn, index_col=['State_Code', 'State'])\n",
    "clean_csv_df.head(5)"
   ]
  },
  {
   "cell_type": "code",
   "execution_count": 19,
   "metadata": {},
   "outputs": [
    {
     "data": {
      "text/html": [
       "<div>\n",
       "<style scoped>\n",
       "    .dataframe tbody tr th:only-of-type {\n",
       "        vertical-align: middle;\n",
       "    }\n",
       "\n",
       "    .dataframe tbody tr th {\n",
       "        vertical-align: top;\n",
       "    }\n",
       "\n",
       "    .dataframe thead th {\n",
       "        text-align: right;\n",
       "    }\n",
       "</style>\n",
       "<table border=\"1\" class=\"dataframe\">\n",
       "  <thead>\n",
       "    <tr style=\"text-align: right;\">\n",
       "      <th></th>\n",
       "      <th>index</th>\n",
       "      <th>Avg_Ann_Count</th>\n",
       "      <th>Recent_Trend</th>\n",
       "      <th>AA_Death_Rate_100K(95%CI)</th>\n",
       "      <th>AA_CI_lower</th>\n",
       "      <th>AA_CI_upper</th>\n",
       "      <th>Recent_5yr_Death_Rate(95%CI)</th>\n",
       "      <th>5yr_Death_Rate_CI_lower</th>\n",
       "      <th>5yr_Death_Rate_CI_upper</th>\n",
       "    </tr>\n",
       "    <tr>\n",
       "      <th>State</th>\n",
       "      <th></th>\n",
       "      <th></th>\n",
       "      <th></th>\n",
       "      <th></th>\n",
       "      <th></th>\n",
       "      <th></th>\n",
       "      <th></th>\n",
       "      <th></th>\n",
       "      <th></th>\n",
       "    </tr>\n",
       "  </thead>\n",
       "  <tbody>\n",
       "    <tr>\n",
       "      <th>Kentucky</th>\n",
       "      <td>0</td>\n",
       "      <td>3307</td>\n",
       "      <td>falling</td>\n",
       "      <td>60.4</td>\n",
       "      <td>59.5</td>\n",
       "      <td>61.3</td>\n",
       "      <td>-5.6</td>\n",
       "      <td>-7.7</td>\n",
       "      <td>-3.4</td>\n",
       "    </tr>\n",
       "    <tr>\n",
       "      <th>West Virginia</th>\n",
       "      <td>1</td>\n",
       "      <td>1416</td>\n",
       "      <td>falling</td>\n",
       "      <td>53.6</td>\n",
       "      <td>52.3</td>\n",
       "      <td>54.8</td>\n",
       "      <td>-1.9</td>\n",
       "      <td>-2.2</td>\n",
       "      <td>-1.5</td>\n",
       "    </tr>\n",
       "    <tr>\n",
       "      <th>Arkansas</th>\n",
       "      <td>2</td>\n",
       "      <td>2002</td>\n",
       "      <td>falling</td>\n",
       "      <td>52.8</td>\n",
       "      <td>51.8</td>\n",
       "      <td>53.9</td>\n",
       "      <td>-3.1</td>\n",
       "      <td>-3.9</td>\n",
       "      <td>-2.3</td>\n",
       "    </tr>\n",
       "    <tr>\n",
       "      <th>Mississippi</th>\n",
       "      <td>3</td>\n",
       "      <td>1880</td>\n",
       "      <td>falling</td>\n",
       "      <td>52.8</td>\n",
       "      <td>51.7</td>\n",
       "      <td>53.9</td>\n",
       "      <td>-2.6</td>\n",
       "      <td>-3.0</td>\n",
       "      <td>-2.1</td>\n",
       "    </tr>\n",
       "    <tr>\n",
       "      <th>Tennessee</th>\n",
       "      <td>4</td>\n",
       "      <td>4212</td>\n",
       "      <td>falling</td>\n",
       "      <td>51.3</td>\n",
       "      <td>50.6</td>\n",
       "      <td>52.0</td>\n",
       "      <td>-5.4</td>\n",
       "      <td>-7.3</td>\n",
       "      <td>-3.5</td>\n",
       "    </tr>\n",
       "  </tbody>\n",
       "</table>\n",
       "</div>"
      ],
      "text/plain": [
       "               index  Avg_Ann_Count Recent_Trend  AA_Death_Rate_100K(95%CI)  \\\n",
       "State                                                                         \n",
       "Kentucky           0           3307      falling                       60.4   \n",
       "West Virginia      1           1416      falling                       53.6   \n",
       "Arkansas           2           2002      falling                       52.8   \n",
       "Mississippi        3           1880      falling                       52.8   \n",
       "Tennessee          4           4212      falling                       51.3   \n",
       "\n",
       "               AA_CI_lower  AA_CI_upper  Recent_5yr_Death_Rate(95%CI)  \\\n",
       "State                                                                   \n",
       "Kentucky              59.5         61.3                          -5.6   \n",
       "West Virginia         52.3         54.8                          -1.9   \n",
       "Arkansas              51.8         53.9                          -3.1   \n",
       "Mississippi           51.7         53.9                          -2.6   \n",
       "Tennessee             50.6         52.0                          -5.4   \n",
       "\n",
       "               5yr_Death_Rate_CI_lower  5yr_Death_Rate_CI_upper  \n",
       "State                                                            \n",
       "Kentucky                          -7.7                     -3.4  \n",
       "West Virginia                     -2.2                     -1.5  \n",
       "Arkansas                          -3.9                     -2.3  \n",
       "Mississippi                       -3.0                     -2.1  \n",
       "Tennessee                         -7.3                     -3.5  "
      ]
     },
     "execution_count": 19,
     "metadata": {},
     "output_type": "execute_result"
    }
   ],
   "source": [
    "clean_html_df = pd.read_sql_query(\"SELECT * from clean_html\", conn, index_col='State')\n",
    "clean_html_df.head(5)"
   ]
  },
  {
   "cell_type": "code",
   "execution_count": 20,
   "metadata": {},
   "outputs": [],
   "source": [
    "clean_api_df = pd.read_sql_query(\"SELECT * from clean_api\", conn, index_col='State_Code')"
   ]
  },
  {
   "cell_type": "code",
   "execution_count": 21,
   "metadata": {},
   "outputs": [
    {
     "data": {
      "text/html": [
       "<div>\n",
       "<style scoped>\n",
       "    .dataframe tbody tr th:only-of-type {\n",
       "        vertical-align: middle;\n",
       "    }\n",
       "\n",
       "    .dataframe tbody tr th {\n",
       "        vertical-align: top;\n",
       "    }\n",
       "\n",
       "    .dataframe thead th {\n",
       "        text-align: right;\n",
       "    }\n",
       "</style>\n",
       "<table border=\"1\" class=\"dataframe\">\n",
       "  <thead>\n",
       "    <tr style=\"text-align: right;\">\n",
       "      <th></th>\n",
       "      <th>index</th>\n",
       "      <th>yearstart</th>\n",
       "      <th>yearend</th>\n",
       "      <th>Strat</th>\n",
       "      <th>Value_Type</th>\n",
       "      <th>Value</th>\n",
       "    </tr>\n",
       "    <tr>\n",
       "      <th>State_Code</th>\n",
       "      <th></th>\n",
       "      <th></th>\n",
       "      <th></th>\n",
       "      <th></th>\n",
       "      <th></th>\n",
       "      <th></th>\n",
       "    </tr>\n",
       "  </thead>\n",
       "  <tbody>\n",
       "    <tr>\n",
       "      <th>AK</th>\n",
       "      <td>0</td>\n",
       "      <td>2010</td>\n",
       "      <td>2014</td>\n",
       "      <td>Overall</td>\n",
       "      <td>AA_Nbr</td>\n",
       "      <td>255.0</td>\n",
       "    </tr>\n",
       "    <tr>\n",
       "      <th>AL</th>\n",
       "      <td>1</td>\n",
       "      <td>2010</td>\n",
       "      <td>2014</td>\n",
       "      <td>Overall</td>\n",
       "      <td>AA_Nbr</td>\n",
       "      <td>3149.0</td>\n",
       "    </tr>\n",
       "    <tr>\n",
       "      <th>AR</th>\n",
       "      <td>2</td>\n",
       "      <td>2010</td>\n",
       "      <td>2014</td>\n",
       "      <td>Overall</td>\n",
       "      <td>AA_Nbr</td>\n",
       "      <td>2118.0</td>\n",
       "    </tr>\n",
       "    <tr>\n",
       "      <th>AZ</th>\n",
       "      <td>3</td>\n",
       "      <td>2010</td>\n",
       "      <td>2014</td>\n",
       "      <td>Overall</td>\n",
       "      <td>AA_Nbr</td>\n",
       "      <td>2736.0</td>\n",
       "    </tr>\n",
       "    <tr>\n",
       "      <th>CA</th>\n",
       "      <td>4</td>\n",
       "      <td>2010</td>\n",
       "      <td>2014</td>\n",
       "      <td>Overall</td>\n",
       "      <td>AA_Nbr</td>\n",
       "      <td>12590.0</td>\n",
       "    </tr>\n",
       "  </tbody>\n",
       "</table>\n",
       "</div>"
      ],
      "text/plain": [
       "            index  yearstart  yearend    Strat Value_Type    Value\n",
       "State_Code                                                        \n",
       "AK              0       2010     2014  Overall     AA_Nbr    255.0\n",
       "AL              1       2010     2014  Overall     AA_Nbr   3149.0\n",
       "AR              2       2010     2014  Overall     AA_Nbr   2118.0\n",
       "AZ              3       2010     2014  Overall     AA_Nbr   2736.0\n",
       "CA              4       2010     2014  Overall     AA_Nbr  12590.0"
      ]
     },
     "execution_count": 21,
     "metadata": {},
     "output_type": "execute_result"
    }
   ],
   "source": [
    "clean_api_df.head(5)"
   ]
  },
  {
   "cell_type": "markdown",
   "metadata": {},
   "source": [
    "## Combine 3 Dataframes into 1"
   ]
  },
  {
   "cell_type": "code",
   "execution_count": 22,
   "metadata": {},
   "outputs": [
    {
     "data": {
      "text/plain": [
       "Index(['indexState_Code_x', 'Year', 'HHS_Region', 'Age_Range', 'Benchmark',\n",
       "       'Locality', 'Observed_Deaths', 'Population', 'Expected_Deaths',\n",
       "       'Potentially_Excess_Deaths', 'Percent_Potentially_Excess_Deaths',\n",
       "       'indexState_Code_y', 'yearstart', 'yearend', 'Strat', 'Value_Type',\n",
       "       'Value', 'index', 'Avg_Ann_Count', 'Recent_Trend',\n",
       "       'AA_Death_Rate_100K(95%CI)', 'AA_CI_lower', 'AA_CI_upper',\n",
       "       'Recent_5yr_Death_Rate(95%CI)', '5yr_Death_Rate_CI_lower',\n",
       "       '5yr_Death_Rate_CI_upper'],\n",
       "      dtype='object')"
      ]
     },
     "execution_count": 22,
     "metadata": {},
     "output_type": "execute_result"
    }
   ],
   "source": [
    "# Combine all three DFs into 1 DF using PD.JOIN\n",
    "\n",
    "big_df1 = clean_csv_df.join(clean_api_df, on='State_Code', lsuffix=\"State_Code_x\", rsuffix=\"State_Code_y\")\\\n",
    "    .join(clean_html_df, on='State', lsuffix=\"State_x\", rsuffix=\"State_y\" )\n",
    "big_df1.columns"
   ]
  },
  {
   "cell_type": "code",
   "execution_count": 23,
   "metadata": {},
   "outputs": [],
   "source": [
    "# drop columns \n",
    "big_df1.drop(columns = ['indexState_Code_x', 'HHS_Region', 'index', 'indexState_Code_y', 'Locality'], axis=1, inplace=True)"
   ]
  },
  {
   "cell_type": "code",
   "execution_count": 24,
   "metadata": {},
   "outputs": [
    {
     "data": {
      "text/plain": [
       "Year                                   int64\n",
       "Age_Range                             object\n",
       "Benchmark                             object\n",
       "Observed_Deaths                      float64\n",
       "Population                           float64\n",
       "Expected_Deaths                      float64\n",
       "Potentially_Excess_Deaths            float64\n",
       "Percent_Potentially_Excess_Deaths    float64\n",
       "yearstart                              int64\n",
       "yearend                                int64\n",
       "Strat                                 object\n",
       "Value_Type                            object\n",
       "Value                                float64\n",
       "Avg_Ann_Count                        float64\n",
       "Recent_Trend                          object\n",
       "AA_Death_Rate_100K(95%CI)            float64\n",
       "AA_CI_lower                          float64\n",
       "AA_CI_upper                          float64\n",
       "Recent_5yr_Death_Rate(95%CI)         float64\n",
       "5yr_Death_Rate_CI_lower              float64\n",
       "5yr_Death_Rate_CI_upper              float64\n",
       "dtype: object"
      ]
     },
     "execution_count": 24,
     "metadata": {},
     "output_type": "execute_result"
    }
   ],
   "source": [
    "big_df1.dtypes"
   ]
  },
  {
   "cell_type": "code",
   "execution_count": 25,
   "metadata": {},
   "outputs": [],
   "source": [
    "# Reset the index to State_Code and Year\n",
    "big_df1.reset_index(inplace=True)"
   ]
  },
  {
   "cell_type": "markdown",
   "metadata": {},
   "source": [
    "## Create Visualization Functions"
   ]
  },
  {
   "cell_type": "code",
   "execution_count": null,
   "metadata": {},
   "outputs": [],
   "source": []
  },
  {
   "cell_type": "code",
   "execution_count": 27,
   "metadata": {},
   "outputs": [],
   "source": [
    "# Create Histogram Plot Function\n",
    "def Hist_Plot(subtitle, xlab, ser1, xval):\n",
    "    \"\"\"Plot histogram\"\"\"\n",
    "     \n",
    "    # Main Title    \n",
    "    fig = plt.figure(figsize=(15,10))\n",
    "    title = fig.suptitle(subtitle, fontsize=14, fontweight=\"bold\")\n",
    "                         \n",
    "    fig.subplots_adjust(top=0.88, wspace=0.3)\n",
    "    \n",
    "    # Histogram\n",
    "    ax1 = fig.add_subplot(1,1,1)\n",
    "    ax1.set_xlabel(xlab)\n",
    "    ax1.set_ylabel(ylab)\n",
    "    sns.histplot(data=ser1, x=xval, bins=20, color='darksalmon')\n",
    "    plt.show()\n",
    "                                       \n",
    "    return\n",
    "\n",
    "# Create Scatter Plot function\n",
    "\n",
    "def sns_Scatter(subtitle, xlab, ylab, xval, yval, data):\n",
    "    \"\"\"Scatter plot\"\"\"\n",
    "    fig = plt.figure(figsize=(15,10))\n",
    "    title = fig.suptitle(subtitle, \\\n",
    "                         fontsize=14, fontweight=\"bold\")\n",
    "    fig.subplots_adjust(top=0.88, wspace=0.3)\n",
    "    # Scatter Plots\n",
    "    ax1 = fig.add_subplot(1,1,1)\n",
    "    ax1.set_xlabel(xlab)\n",
    "    ax1.set_ylabel(ylab)\n",
    "    sns.scatterplot(x = xval, y = yval, data=ser1)\n",
    "    plt.show()\n",
    "    return\n",
    "\n",
    "# Create a barplot function    \n",
    " \n",
    "def sns_bar(subtitle, ser1, xlab, ylab,  xval, yval):\n",
    "    \"\"\"Plot a bar plot\"\"\"\n",
    "\n",
    "    fig = plt.figure(figsize=(15,10))\n",
    "    title = fig.suptitle(subtitle, \\\n",
    "                     fontsize=14, fontweight=\"bold\")\n",
    "    fig.subplots_adjust(top=0.88, wspace=0.3)\n",
    "    ax1 = fig.add_subplot(1,1,1)\n",
    "    ax1.set_xlabel(xlab)\n",
    "    ax1.set_ylabel(ylab)\n",
    "    sns.barplot(data=ser1, x=xval, y=yval, label=xlab, ax=ax1)\n",
    "    plt.show()\n",
    "    return \n",
    "\n",
    "# Create a line chart function \n",
    "\n",
    "def sns_line(subtitle, ser1, xlab, ylab,  xval, yval, t_hue):\n",
    "    \"\"\"Plot a line plot\"\"\"\n",
    "\n",
    "    fig = plt.figure(figsize=(15,10))\n",
    "    title = fig.suptitle(subtitle, \\\n",
    "                     fontsize=14, fontweight=\"bold\")\n",
    "    fig.subplots_adjust(top=0.88, wspace=0.3)\n",
    "    ax1 = fig.add_subplot(1,1,1)\n",
    "    ax1.set_xlabel(xlab)\n",
    "    ax1.set_ylabel(ylab)\n",
    "\n",
    "    sns.lineplot(data=ser1, x = xval, y = yval, hue=t_hue)\n",
    "    plt.show()\n",
    "    return\n",
    "\n",
    "# Create a regression chart function \n",
    "\n",
    "def sns_reg(subtitle, ser1, xlab, ylab,  xval, yval):\n",
    "    \"\"\"Plot a linear regression\"\"\"\n",
    "\n",
    "    fig = plt.figure(figsize=(15,10))\n",
    "    title = fig.suptitle(subtitle, \\\n",
    "                     fontsize=14, fontweight=\"bold\")\n",
    "    fig.subplots_adjust(top=0.88, wspace=0.3)\n",
    "    ax1 = fig.add_subplot(1,1,1)\n",
    "    ax1.set_xlabel(xlab)\n",
    "    ax1.set_ylabel(ylab)\n",
    "\n",
    "    sns.regplot(data=ser1, x = xval, y = yval)\n",
    "    plt.show()\n",
    "    return\n"
   ]
  },
  {
   "cell_type": "markdown",
   "metadata": {},
   "source": [
    "## Create Scatter Plots"
   ]
  },
  {
   "cell_type": "code",
   "execution_count": 28,
   "metadata": {},
   "outputs": [],
   "source": [
    "\n",
    "# create a DF with only the observed_deaths and Year\n",
    "ser1 = big_df1[['Observed_Deaths', 'Population']].copy()"
   ]
  },
  {
   "cell_type": "code",
   "execution_count": 29,
   "metadata": {},
   "outputs": [],
   "source": [
    "# Compute log values for better visualization\n",
    "ser1['Population_log'] = np.log10(ser1[['Population']])\n",
    "ser1['Observed_Deaths_log'] = np.log10(ser1[['Observed_Deaths']])"
   ]
  },
  {
   "cell_type": "code",
   "execution_count": 30,
   "metadata": {},
   "outputs": [
    {
     "data": {
      "image/png": "[encoded data removed]",
      "text/plain": [
       "<Figure size 1080x720 with 1 Axes>"
      ]
     },
     "metadata": {},
     "output_type": "display_data"
    }
   ],
   "source": [
    "# Create a Scatter plot for Population and observed number of deaths\n",
    "subtitle = 'Observed Lung Cancer Deaths per Population growth for each State'\n",
    "xval = 'Observed_Deaths_log'\n",
    "yval = 'Population_log'\n",
    "xlab = 'Observed Deaths - Log10 Scale'\n",
    "ylab = 'Population - Log10 scale'\n",
    "sns_Scatter(subtitle, xlab, ylab, xval, yval, ser1)"
   ]
  },
  {
   "cell_type": "markdown",
   "metadata": {},
   "source": [
    "## Create Bar Plots"
   ]
  },
  {
   "cell_type": "code",
   "execution_count": 31,
   "metadata": {},
   "outputs": [],
   "source": [
    "# Create a bar chart of the Age_adjusted Number per 100K deaths for each state.\n",
    "# Drop duplicates because values are repeated for each year. Only need one row per state\n",
    "ser1 = big_df1[['State_Code', 'Value']].sort_values('Value', ascending = False).copy()\n",
    "ser1.drop_duplicates(keep='first', inplace=True)"
   ]
  },
  {
   "cell_type": "code",
   "execution_count": 45,
   "metadata": {},
   "outputs": [
    {
     "data": {
      "image/png": "[encoded data removed]",
      "text/plain": [
       "<Figure size 1080x720 with 1 Axes>"
      ]
     },
     "metadata": {},
     "output_type": "display_data"
    }
   ],
   "source": [
    "# Define Plot params\n",
    "ser1 = big_df1[['State_Code', 'Value']].sort_values('Value', ascending = False).copy()\n",
    "subtitle = \"Age_Adjusted Lung Cancer Deaths per 100K of population for each State\"\n",
    "xlab = \"State\"\n",
    "xval = 'State_Code'\n",
    "ylab = 'Age_Adjusted Annual Lung Cancer Number'\n",
    "yval = 'Value'\n",
    "sns_bar(subtitle, ser1, xlab, ylab, xval, yval)\n"
   ]
  },
  {
   "cell_type": "markdown",
   "metadata": {},
   "source": [
    "## Create Line Charts"
   ]
  },
  {
   "cell_type": "code",
   "execution_count": 33,
   "metadata": {},
   "outputs": [],
   "source": [
    "# Create a line chart showing the observed_deaths vs expected deaths for 5 years for CA. "
   ]
  },
  {
   "cell_type": "code",
   "execution_count": 34,
   "metadata": {},
   "outputs": [
    {
     "data": {
      "text/html": [
       "<div>\n",
       "<style scoped>\n",
       "    .dataframe tbody tr th:only-of-type {\n",
       "        vertical-align: middle;\n",
       "    }\n",
       "\n",
       "    .dataframe tbody tr th {\n",
       "        vertical-align: top;\n",
       "    }\n",
       "\n",
       "    .dataframe thead th {\n",
       "        text-align: right;\n",
       "    }\n",
       "</style>\n",
       "<table border=\"1\" class=\"dataframe\">\n",
       "  <thead>\n",
       "    <tr style=\"text-align: right;\">\n",
       "      <th></th>\n",
       "      <th>Year</th>\n",
       "      <th>Type</th>\n",
       "      <th>Nbr_Of_Deaths</th>\n",
       "    </tr>\n",
       "  </thead>\n",
       "  <tbody>\n",
       "    <tr>\n",
       "      <th>0</th>\n",
       "      <td>2010</td>\n",
       "      <td>Expected_Deaths</td>\n",
       "      <td>41572.0</td>\n",
       "    </tr>\n",
       "    <tr>\n",
       "      <th>1</th>\n",
       "      <td>2011</td>\n",
       "      <td>Expected_Deaths</td>\n",
       "      <td>42716.0</td>\n",
       "    </tr>\n",
       "    <tr>\n",
       "      <th>2</th>\n",
       "      <td>2012</td>\n",
       "      <td>Expected_Deaths</td>\n",
       "      <td>43948.0</td>\n",
       "    </tr>\n",
       "    <tr>\n",
       "      <th>3</th>\n",
       "      <td>2013</td>\n",
       "      <td>Expected_Deaths</td>\n",
       "      <td>45240.0</td>\n",
       "    </tr>\n",
       "    <tr>\n",
       "      <th>4</th>\n",
       "      <td>2014</td>\n",
       "      <td>Expected_Deaths</td>\n",
       "      <td>46683.0</td>\n",
       "    </tr>\n",
       "  </tbody>\n",
       "</table>\n",
       "</div>"
      ],
      "text/plain": [
       "   Year             Type  Nbr_Of_Deaths\n",
       "0  2010  Expected_Deaths        41572.0\n",
       "1  2011  Expected_Deaths        42716.0\n",
       "2  2012  Expected_Deaths        43948.0\n",
       "3  2013  Expected_Deaths        45240.0\n",
       "4  2014  Expected_Deaths        46683.0"
      ]
     },
     "execution_count": 34,
     "metadata": {},
     "output_type": "execute_result"
    }
   ],
   "source": [
    "# Reshape the data to show two lines representing Observed Deaths and Expected Deaths\n",
    "tmp_df = big_df1[['Expected_Deaths', 'Observed_Deaths', 'State_Code', 'Year']].copy()\n",
    "ser1 = tmp_df[tmp_df['State_Code'] == 'CA'].copy()\n",
    "ser1.drop(columns='State_Code', inplace=True)\n",
    "tmp = pd.melt(ser1, id_vars=['Year'], var_name='Type', value_name = 'Nbr_Of_Deaths')\n",
    "tmp.head(5)"
   ]
  },
  {
   "cell_type": "code",
   "execution_count": 46,
   "metadata": {},
   "outputs": [
    {
     "data": {
      "image/png": "[encoded data removed]",
      "text/plain": [
       "<Figure size 1080x720 with 1 Axes>"
      ]
     },
     "metadata": {},
     "output_type": "display_data"
    }
   ],
   "source": [
    "# Create line plot showing the two categories of values\n",
    "ser1 = tmp\n",
    "subtitle = \"Expected versus Observed Lung Cancer Deaths in CA\"\n",
    "xlab = 'Deaths'\n",
    "xval = 'Nbr_Of_Deaths'\n",
    "ylab = 'Year'\n",
    "yval = 'Year'\n",
    "t_hue = 'Type'\n",
    "sns_line(subtitle, ser1, xlab, ylab,  xval, yval, t_hue)\n"
   ]
  },
  {
   "cell_type": "code",
   "execution_count": 36,
   "metadata": {},
   "outputs": [
    {
     "data": {
      "text/html": [
       "<div>\n",
       "<style scoped>\n",
       "    .dataframe tbody tr th:only-of-type {\n",
       "        vertical-align: middle;\n",
       "    }\n",
       "\n",
       "    .dataframe tbody tr th {\n",
       "        vertical-align: top;\n",
       "    }\n",
       "\n",
       "    .dataframe thead th {\n",
       "        text-align: right;\n",
       "    }\n",
       "</style>\n",
       "<table border=\"1\" class=\"dataframe\">\n",
       "  <thead>\n",
       "    <tr style=\"text-align: right;\">\n",
       "      <th></th>\n",
       "      <th>State_Code</th>\n",
       "      <th>Year</th>\n",
       "      <th>Observed_Deaths</th>\n",
       "    </tr>\n",
       "  </thead>\n",
       "  <tbody>\n",
       "    <tr>\n",
       "      <th>4</th>\n",
       "      <td>CA</td>\n",
       "      <td>2010</td>\n",
       "      <td>46065.0</td>\n",
       "    </tr>\n",
       "    <tr>\n",
       "      <th>51</th>\n",
       "      <td>CA</td>\n",
       "      <td>2011</td>\n",
       "      <td>46011.0</td>\n",
       "    </tr>\n",
       "    <tr>\n",
       "      <th>106</th>\n",
       "      <td>CA</td>\n",
       "      <td>2012</td>\n",
       "      <td>46923.0</td>\n",
       "    </tr>\n",
       "    <tr>\n",
       "      <th>157</th>\n",
       "      <td>CA</td>\n",
       "      <td>2013</td>\n",
       "      <td>46926.0</td>\n",
       "    </tr>\n",
       "    <tr>\n",
       "      <th>208</th>\n",
       "      <td>CA</td>\n",
       "      <td>2014</td>\n",
       "      <td>47295.0</td>\n",
       "    </tr>\n",
       "    <tr>\n",
       "      <th>259</th>\n",
       "      <td>CA</td>\n",
       "      <td>2015</td>\n",
       "      <td>48075.0</td>\n",
       "    </tr>\n",
       "  </tbody>\n",
       "</table>\n",
       "</div>"
      ],
      "text/plain": [
       "    State_Code  Year  Observed_Deaths\n",
       "4           CA  2010          46065.0\n",
       "51          CA  2011          46011.0\n",
       "106         CA  2012          46923.0\n",
       "157         CA  2013          46926.0\n",
       "208         CA  2014          47295.0\n",
       "259         CA  2015          48075.0"
      ]
     },
     "execution_count": 36,
     "metadata": {},
     "output_type": "execute_result"
    }
   ],
   "source": [
    "# Show the observed deaths for California because the line graph shows an anomaly\n",
    "tmp2 = big_df1[['State_Code', 'Year','Observed_Deaths']].copy()\n",
    "tmp2[(tmp2['State_Code'] == 'CA')]"
   ]
  },
  {
   "cell_type": "markdown",
   "metadata": {},
   "source": [
    "## Create Histogram"
   ]
  },
  {
   "cell_type": "code",
   "execution_count": 37,
   "metadata": {},
   "outputs": [],
   "source": [
    "# Create a histogram of the average annaul death rates for all states."
   ]
  },
  {
   "cell_type": "code",
   "execution_count": 48,
   "metadata": {},
   "outputs": [],
   "source": [
    "# Select a subset for the histogram. Drop duplicate rows as all the years reflect the same value\n",
    "ser1 = big_df1[['State_Code', 'Avg_Ann_Count']].copy()\n",
    "ser1.drop_duplicates(keep='first', inplace=True)"
   ]
  },
  {
   "cell_type": "code",
   "execution_count": 50,
   "metadata": {},
   "outputs": [
    {
     "data": {
      "image/png": "[encoded data removed]",
      "text/plain": [
       "<Figure size 1080x720 with 1 Axes>"
      ]
     },
     "metadata": {},
     "output_type": "display_data"
    }
   ],
   "source": [
    "# Define Plot Params\n",
    "subtitle = \"Average Annual Lung Cancer Deaths for all States\"\n",
    "xlab = \"Avg Annual Lung Cancer Deaths Per State\"\n",
    "xval = 'Avg_Ann_Count'\n",
    "ylab = 'Number of State with Lung Cancer Deaths within the same Frequency'\n",
    "yval = 'Value'\n",
    "Hist_Plot(subtitle, xlab, ser1, xval)"
   ]
  },
  {
   "cell_type": "markdown",
   "metadata": {},
   "source": [
    "## Create Linear Regression Plot"
   ]
  },
  {
   "cell_type": "code",
   "execution_count": 40,
   "metadata": {},
   "outputs": [],
   "source": [
    "# Create a linear regression plot to show correlation between population growth and cancer deaths"
   ]
  },
  {
   "cell_type": "code",
   "execution_count": 41,
   "metadata": {},
   "outputs": [],
   "source": [
    "# Create subset for with observed deaths and population for each state\n",
    "# Change the population to log10 for better visualization\n",
    "ser1 = big_df1[['State_Code', 'Population', 'Year', 'Observed_Deaths']].copy()\n",
    "ser1['Population_log'] = np.log10(ser1[['Population']])\n",
    "ser1['Observed_Deaths_log'] = np.log10(ser1[['Observed_Deaths']])"
   ]
  },
  {
   "cell_type": "code",
   "execution_count": 42,
   "metadata": {},
   "outputs": [
    {
     "data": {
      "image/png": "[encoded data removed]",
      "text/plain": [
       "<Figure size 1080x720 with 1 Axes>"
      ]
     },
     "metadata": {},
     "output_type": "display_data"
    }
   ],
   "source": [
    "# Create Regression Plot\n",
    "subtitle = \"Correlation between Population Growth and Lung Cancer Deaths\"\n",
    "xval = \"Observed_Deaths_log\"\n",
    "xlab = 'Number of Lung Cancer Deaths'\n",
    "ylab = 'Population'\n",
    "yval = 'Population_log'\n",
    "sns_reg(subtitle, ser1, xlab, ylab, xval, yval)"
   ]
  },
  {
   "cell_type": "code",
   "execution_count": null,
   "metadata": {},
   "outputs": [],
   "source": []
  }
 ],
 "metadata": {
  "kernelspec": {
   "display_name": "Python 3 (ipykernel)",
   "language": "python",
   "name": "python3"
  },
  "language_info": {
   "codemirror_mode": {
    "name": "ipython",
    "version": 3
   },
   "file_extension": ".py",
   "mimetype": "text/x-python",
   "name": "python",
   "nbconvert_exporter": "python",
   "pygments_lexer": "ipython3",
   "version": "3.8.0"
  }
 },
 "nbformat": 4,
 "nbformat_minor": 4
}
